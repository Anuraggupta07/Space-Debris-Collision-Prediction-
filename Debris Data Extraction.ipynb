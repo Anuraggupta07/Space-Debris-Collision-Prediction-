{
 "cells": [
  {
   "cell_type": "code",
   "execution_count": 37,
   "metadata": {},
   "outputs": [],
   "source": [
    "import pandas as pd\n",
    "import numpy as np\n",
    "from sklearn.ensemble import RandomForestClassifier\n",
    "from sklearn.preprocessing import LabelEncoder, MinMaxScaler\n",
    "from sklearn.model_selection import train_test_split\n",
    "from sklearn.impute import SimpleImputer"
   ]
  },
  {
   "cell_type": "code",
   "execution_count": 38,
   "metadata": {},
   "outputs": [],
   "source": [
    "import pandas as pd\n",
    "\n",
    "#Since we have used pickle\n",
    "data = pd.read_pickle('preprocessed_data.pkl')"
   ]
  },
  {
   "cell_type": "code",
   "execution_count": 39,
   "metadata": {},
   "outputs": [],
   "source": [
    "# Load your data\n",
    "data = pd.read_csv('Dataset/CSV FILE/Total_objects_dataset_Uncleaned_.csv')"
   ]
  },
  {
   "cell_type": "code",
   "execution_count": 40,
   "metadata": {},
   "outputs": [
    {
     "name": "stderr",
     "output_type": "stream",
     "text": [
      "C:\\Users\\anura\\AppData\\Local\\Temp\\ipykernel_18672\\3939401529.py:2: UserWarning: Parsing dates in %m/%d/%Y format when dayfirst=True was specified. Pass `dayfirst=False` or specify a format to silence this warning.\n",
      "  data['LAUNCH'] = pd.to_datetime(data['LAUNCH'], errors='coerce', dayfirst=True)\n"
     ]
    }
   ],
   "source": [
    "# Attempt to convert 'LAUNCH' to datetime, handling errors and mixed formats\n",
    "data['LAUNCH'] = pd.to_datetime(data['LAUNCH'], errors='coerce', dayfirst=True)\n",
    "\n",
    "# Extract the year from the 'LAUNCH' column\n",
    "data['YEAR'] = data['LAUNCH'].dt.year\n"
   ]
  },
  {
   "cell_type": "code",
   "execution_count": 41,
   "metadata": {},
   "outputs": [],
   "source": [
    "# Handle missing values in 'YEAR' if any remain\n",
    "data['YEAR'].fillna(data['YEAR'].median(), inplace=True)"
   ]
  },
  {
   "cell_type": "code",
   "execution_count": 42,
   "metadata": {},
   "outputs": [],
   "source": [
    "# Continue with the rest of our preprocessing\n",
    "numerical_cols = ['PERIOD', 'INCLINATION', 'APOGEE', 'PERIGEE', 'RCSVALUE', 'YEAR']\n",
    "for col in numerical_cols:\n",
    "    data[col] = pd.to_numeric(data[col], errors='coerce')\n",
    "    data[col].fillna(data[col].median(), inplace=True)"
   ]
  },
  {
   "cell_type": "code",
   "execution_count": 43,
   "metadata": {},
   "outputs": [],
   "source": [
    "# Encode categorical variables\n",
    "categorical_cols = ['OBJECT_ID', 'OBJECT_NAME', 'NORAD_CAT_ID', 'COUNTRY']\n",
    "for col in categorical_cols:\n",
    "    data[col] = LabelEncoder().fit_transform(data[col])"
   ]
  },
  {
   "cell_type": "code",
   "execution_count": 44,
   "metadata": {},
   "outputs": [],
   "source": [
    "# Prepare data for machine learning: Features and target variable\n",
    "features = numerical_cols + categorical_cols\n",
    "X = data[features]\n",
    "y = data['RCS_SIZE'].astype(str) "
   ]
  },
  {
   "cell_type": "code",
   "execution_count": 45,
   "metadata": {},
   "outputs": [],
   "source": [
    "#Handling missing 'RCS_SIZE' values using RandomForest Classifier\n",
    "# First, encode 'RCS_SIZE' for use in classification\n",
    "y = LabelEncoder().fit_transform(y)\n",
    "X_train, X_test, y_train, y_test = train_test_split(X, y, test_size=0.2, random_state=42)\n"
   ]
  },
  {
   "cell_type": "code",
   "execution_count": 46,
   "metadata": {},
   "outputs": [
    {
     "data": {
      "text/html": [
       "<style>#sk-container-id-3 {color: black;}#sk-container-id-3 pre{padding: 0;}#sk-container-id-3 div.sk-toggleable {background-color: white;}#sk-container-id-3 label.sk-toggleable__label {cursor: pointer;display: block;width: 100%;margin-bottom: 0;padding: 0.3em;box-sizing: border-box;text-align: center;}#sk-container-id-3 label.sk-toggleable__label-arrow:before {content: \"▸\";float: left;margin-right: 0.25em;color: #696969;}#sk-container-id-3 label.sk-toggleable__label-arrow:hover:before {color: black;}#sk-container-id-3 div.sk-estimator:hover label.sk-toggleable__label-arrow:before {color: black;}#sk-container-id-3 div.sk-toggleable__content {max-height: 0;max-width: 0;overflow: hidden;text-align: left;background-color: #f0f8ff;}#sk-container-id-3 div.sk-toggleable__content pre {margin: 0.2em;color: black;border-radius: 0.25em;background-color: #f0f8ff;}#sk-container-id-3 input.sk-toggleable__control:checked~div.sk-toggleable__content {max-height: 200px;max-width: 100%;overflow: auto;}#sk-container-id-3 input.sk-toggleable__control:checked~label.sk-toggleable__label-arrow:before {content: \"▾\";}#sk-container-id-3 div.sk-estimator input.sk-toggleable__control:checked~label.sk-toggleable__label {background-color: #d4ebff;}#sk-container-id-3 div.sk-label input.sk-toggleable__control:checked~label.sk-toggleable__label {background-color: #d4ebff;}#sk-container-id-3 input.sk-hidden--visually {border: 0;clip: rect(1px 1px 1px 1px);clip: rect(1px, 1px, 1px, 1px);height: 1px;margin: -1px;overflow: hidden;padding: 0;position: absolute;width: 1px;}#sk-container-id-3 div.sk-estimator {font-family: monospace;background-color: #f0f8ff;border: 1px dotted black;border-radius: 0.25em;box-sizing: border-box;margin-bottom: 0.5em;}#sk-container-id-3 div.sk-estimator:hover {background-color: #d4ebff;}#sk-container-id-3 div.sk-parallel-item::after {content: \"\";width: 100%;border-bottom: 1px solid gray;flex-grow: 1;}#sk-container-id-3 div.sk-label:hover label.sk-toggleable__label {background-color: #d4ebff;}#sk-container-id-3 div.sk-serial::before {content: \"\";position: absolute;border-left: 1px solid gray;box-sizing: border-box;top: 0;bottom: 0;left: 50%;z-index: 0;}#sk-container-id-3 div.sk-serial {display: flex;flex-direction: column;align-items: center;background-color: white;padding-right: 0.2em;padding-left: 0.2em;position: relative;}#sk-container-id-3 div.sk-item {position: relative;z-index: 1;}#sk-container-id-3 div.sk-parallel {display: flex;align-items: stretch;justify-content: center;background-color: white;position: relative;}#sk-container-id-3 div.sk-item::before, #sk-container-id-3 div.sk-parallel-item::before {content: \"\";position: absolute;border-left: 1px solid gray;box-sizing: border-box;top: 0;bottom: 0;left: 50%;z-index: -1;}#sk-container-id-3 div.sk-parallel-item {display: flex;flex-direction: column;z-index: 1;position: relative;background-color: white;}#sk-container-id-3 div.sk-parallel-item:first-child::after {align-self: flex-end;width: 50%;}#sk-container-id-3 div.sk-parallel-item:last-child::after {align-self: flex-start;width: 50%;}#sk-container-id-3 div.sk-parallel-item:only-child::after {width: 0;}#sk-container-id-3 div.sk-dashed-wrapped {border: 1px dashed gray;margin: 0 0.4em 0.5em 0.4em;box-sizing: border-box;padding-bottom: 0.4em;background-color: white;}#sk-container-id-3 div.sk-label label {font-family: monospace;font-weight: bold;display: inline-block;line-height: 1.2em;}#sk-container-id-3 div.sk-label-container {text-align: center;}#sk-container-id-3 div.sk-container {/* jupyter's `normalize.less` sets `[hidden] { display: none; }` but bootstrap.min.css set `[hidden] { display: none !important; }` so we also need the `!important` here to be able to override the default hidden behavior on the sphinx rendered scikit-learn.org. See: https://github.com/scikit-learn/scikit-learn/issues/21755 */display: inline-block !important;position: relative;}#sk-container-id-3 div.sk-text-repr-fallback {display: none;}</style><div id=\"sk-container-id-3\" class=\"sk-top-container\"><div class=\"sk-text-repr-fallback\"><pre>RandomForestClassifier()</pre><b>In a Jupyter environment, please rerun this cell to show the HTML representation or trust the notebook. <br />On GitHub, the HTML representation is unable to render, please try loading this page with nbviewer.org.</b></div><div class=\"sk-container\" hidden><div class=\"sk-item\"><div class=\"sk-estimator sk-toggleable\"><input class=\"sk-toggleable__control sk-hidden--visually\" id=\"sk-estimator-id-3\" type=\"checkbox\" checked><label for=\"sk-estimator-id-3\" class=\"sk-toggleable__label sk-toggleable__label-arrow\">RandomForestClassifier</label><div class=\"sk-toggleable__content\"><pre>RandomForestClassifier()</pre></div></div></div></div></div>"
      ],
      "text/plain": [
       "RandomForestClassifier()"
      ]
     },
     "execution_count": 46,
     "metadata": {},
     "output_type": "execute_result"
    }
   ],
   "source": [
    "clf = RandomForestClassifier(n_estimators=100)\n",
    "clf.fit(X_train, y_train)"
   ]
  },
  {
   "cell_type": "code",
   "execution_count": 47,
   "metadata": {},
   "outputs": [],
   "source": [
    "# Ensure 'X' is aligned correctly with the original DataFrame's indexing\n",
    "X.reset_index(drop=True, inplace=True)\n",
    "data.reset_index(drop=True, inplace=True)\n",
    "\n",
    "# Re-evaluate missing indices after any other data manipulations\n",
    "missing_indices = data[data['RCS_SIZE'].isnull()].index\n",
    "\n",
    "# Predict and fill missing 'RCS_SIZE' only if there are any missing\n",
    "if not missing_indices.empty:\n",
    "    predicted_rcs = clf.predict(X.loc[missing_indices])\n",
    "    # Decode predictions using the LabelEncoder instance used to fit the data\n",
    "    le = LabelEncoder().fit(data['RCS_SIZE'].astype(str))  # Make sure to fit on non-null values if necessary\n",
    "    data.loc[missing_indices, 'RCS_SIZE'] = le.inverse_transform(predicted_rcs)\n",
    "else:\n",
    "    print(\"No missing 'RCS_SIZE' values to predict.\")\n",
    "\n",
    "# Proceed with the rest of your processing\n"
   ]
  },
  {
   "cell_type": "code",
   "execution_count": 49,
   "metadata": {},
   "outputs": [
    {
     "name": "stdout",
     "output_type": "stream",
     "text": [
      "No missing 'RCS_SIZE' values to predict.\n"
     ]
    }
   ],
   "source": [
    "# Make sure 'X' is defined correctly with all expected features\n",
    "X = data[features]\n",
    "\n",
    "# Identify missing indices in 'RCS_SIZE'\n",
    "missing_indices = data[data['RCS_SIZE'].isnull()].index\n",
    "\n",
    "# Verify if there are indeed missing indices\n",
    "if not missing_indices.empty:\n",
    "    # Select the subset of X corresponding to missing 'RCS_SIZE'\n",
    "    X_missing = X.loc[missing_indices]\n",
    "\n",
    "    # Verify if X_missing is not empty and contains the right amount of columns\n",
    "    if not X_missing.empty and X_missing.shape[1] == len(features):\n",
    "        # Ensure X_missing is in the correct format (if required, recheck data types or reset index)\n",
    "        X_missing.reset_index(drop=True, inplace=True)\n",
    "\n",
    "        # Predict missing 'RCS_SIZE' values using the classifier\n",
    "        predicted_rcs = clf.predict(X_missing)\n",
    "\n",
    "        # Decode predictions back to original labels if needed\n",
    "        le = LabelEncoder()\n",
    "        le.fit(data['RCS_SIZE'].dropna().astype(str))  # Fit label encoder on non-missing RCS_SIZE\n",
    "        data.loc[missing_indices, 'RCS_SIZE'] = le.inverse_transform(predicted_rcs)\n",
    "\n",
    "        print(\"Missing 'RCS_SIZE' values have been successfully predicted and filled.\")\n",
    "    else:\n",
    "        print(f\"Error: The subset of X for missing indices is empty or incorrectly formatted. Shape: {X_missing.shape}\")\n",
    "else:\n",
    "    print(\"No missing 'RCS_SIZE' values to predict.\")\n"
   ]
  },
  {
   "cell_type": "code",
   "execution_count": 52,
   "metadata": {},
   "outputs": [
    {
     "name": "stdout",
     "output_type": "stream",
     "text": [
      "Missing indices: Index([], dtype='int64')\n",
      "No missing 'RCS_SIZE' values found for prediction.\n"
     ]
    }
   ],
   "source": [
    "# Reset the index of X to ensure alignment\n",
    "X.reset_index(drop=True, inplace=True)\n",
    "data.reset_index(drop=True, inplace=True)\n",
    "\n",
    "# Re-evaluate missing indices to ensure they are accurate\n",
    "missing_indices = data[data['RCS_SIZE'].isnull()].index\n",
    "\n",
    "# Debugging print to check the content and size of missing_indices\n",
    "print(\"Missing indices:\", missing_indices)\n",
    "\n",
    "if len(missing_indices) > 0:\n",
    "    # Extract the rows from X corresponding to missing_indices\n",
    "    X_missing = X.loc[missing_indices]\n",
    "\n",
    "    # Check if X_missing is non-empty and contains the expected number of features\n",
    "    if not X_missing.empty and X_missing.shape[1] == X.shape[1]:\n",
    "        # Predict missing 'RCS_SIZE' values\n",
    "        predicted_rcs = clf.predict(X_missing)\n",
    "\n",
    "        # Decode predictions using the previously fitted LabelEncoder\n",
    "        le = LabelEncoder().fit(data['RCS_SIZE'].dropna().astype(str))\n",
    "        data.loc[missing_indices, 'RCS_SIZE'] = le.inverse_transform(predicted_rcs)\n",
    "\n",
    "        print(\"Missing 'RCS_SIZE' values predicted and filled.\")\n",
    "    else:\n",
    "        print(\"Error: No data to predict. Check X_missing formation:\", X_missing)\n",
    "else:\n",
    "    print(\"No missing 'RCS_SIZE' values found for prediction.\")\n"
   ]
  },
  {
   "cell_type": "code",
   "execution_count": 53,
   "metadata": {},
   "outputs": [
    {
     "name": "stdout",
     "output_type": "stream",
     "text": [
      "Initial missing RCS_SIZE values: 0\n",
      "No initial missing values in RCS_SIZE. Check data loading and preprocessing steps.\n"
     ]
    }
   ],
   "source": [
    "# Check initial state of RCS_SIZE for missing values\n",
    "initial_missing_count = data['RCS_SIZE'].isnull().sum()\n",
    "print(f\"Initial missing RCS_SIZE values: {initial_missing_count}\")\n",
    "\n",
    "# If there are missing values, continue with the planned processing\n",
    "if initial_missing_count > 0:\n",
    "    # Predict and fill missing 'RCS_SIZE'\n",
    "    missing_indices = data[data['RCS_SIZE'].isnull()].index\n",
    "    predicted_rcs = clf.predict(X[missing_indices])\n",
    "    data.loc[missing_indices, 'RCS_SIZE'] = LabelEncoder().inverse_transform(predicted_rcs)  # Decode predictions\n",
    "    pass\n",
    "else:\n",
    "    print(\"No initial missing values in RCS_SIZE. Check data loading and preprocessing steps.\")\n"
   ]
  },
  {
   "cell_type": "code",
   "execution_count": 59,
   "metadata": {},
   "outputs": [
    {
     "ename": "KeyError",
     "evalue": "'RCS_SIZE'",
     "output_type": "error",
     "traceback": [
      "\u001b[1;31m---------------------------------------------------------------------------\u001b[0m",
      "\u001b[1;31mKeyError\u001b[0m                                  Traceback (most recent call last)",
      "File \u001b[1;32mc:\\ProgramData\\anaconda3\\Lib\\site-packages\\pandas\\core\\indexes\\base.py:3653\u001b[0m, in \u001b[0;36mIndex.get_loc\u001b[1;34m(self, key)\u001b[0m\n\u001b[0;32m   3652\u001b[0m \u001b[38;5;28;01mtry\u001b[39;00m:\n\u001b[1;32m-> 3653\u001b[0m     \u001b[38;5;28;01mreturn\u001b[39;00m \u001b[38;5;28mself\u001b[39m\u001b[38;5;241m.\u001b[39m_engine\u001b[38;5;241m.\u001b[39mget_loc(casted_key)\n\u001b[0;32m   3654\u001b[0m \u001b[38;5;28;01mexcept\u001b[39;00m \u001b[38;5;167;01mKeyError\u001b[39;00m \u001b[38;5;28;01mas\u001b[39;00m err:\n",
      "File \u001b[1;32mc:\\ProgramData\\anaconda3\\Lib\\site-packages\\pandas\\_libs\\index.pyx:147\u001b[0m, in \u001b[0;36mpandas._libs.index.IndexEngine.get_loc\u001b[1;34m()\u001b[0m\n",
      "File \u001b[1;32mc:\\ProgramData\\anaconda3\\Lib\\site-packages\\pandas\\_libs\\index.pyx:176\u001b[0m, in \u001b[0;36mpandas._libs.index.IndexEngine.get_loc\u001b[1;34m()\u001b[0m\n",
      "File \u001b[1;32mpandas\\_libs\\hashtable_class_helper.pxi:7080\u001b[0m, in \u001b[0;36mpandas._libs.hashtable.PyObjectHashTable.get_item\u001b[1;34m()\u001b[0m\n",
      "File \u001b[1;32mpandas\\_libs\\hashtable_class_helper.pxi:7088\u001b[0m, in \u001b[0;36mpandas._libs.hashtable.PyObjectHashTable.get_item\u001b[1;34m()\u001b[0m\n",
      "\u001b[1;31mKeyError\u001b[0m: 'RCS_SIZE'",
      "\nThe above exception was the direct cause of the following exception:\n",
      "\u001b[1;31mKeyError\u001b[0m                                  Traceback (most recent call last)",
      "Cell \u001b[1;32mIn[59], line 5\u001b[0m\n\u001b[0;32m      2\u001b[0m data \u001b[38;5;241m=\u001b[39m pd\u001b[38;5;241m.\u001b[39mread_pickle(\u001b[38;5;124m'\u001b[39m\u001b[38;5;124mpreprocessed_data.pkl\u001b[39m\u001b[38;5;124m'\u001b[39m)\n\u001b[0;32m      4\u001b[0m \u001b[38;5;66;03m# Re-check for missing values\u001b[39;00m\n\u001b[1;32m----> 5\u001b[0m initial_missing_count \u001b[38;5;241m=\u001b[39m data[\u001b[38;5;124m'\u001b[39m\u001b[38;5;124mRCS_SIZE\u001b[39m\u001b[38;5;124m'\u001b[39m]\u001b[38;5;241m.\u001b[39misnull()\u001b[38;5;241m.\u001b[39msum()\n\u001b[0;32m      6\u001b[0m \u001b[38;5;28mprint\u001b[39m(\u001b[38;5;124mf\u001b[39m\u001b[38;5;124m\"\u001b[39m\u001b[38;5;124mInitial missing RCS_SIZE values: \u001b[39m\u001b[38;5;132;01m{\u001b[39;00minitial_missing_count\u001b[38;5;132;01m}\u001b[39;00m\u001b[38;5;124m\"\u001b[39m)\n",
      "File \u001b[1;32mc:\\ProgramData\\anaconda3\\Lib\\site-packages\\pandas\\core\\frame.py:3761\u001b[0m, in \u001b[0;36mDataFrame.__getitem__\u001b[1;34m(self, key)\u001b[0m\n\u001b[0;32m   3759\u001b[0m \u001b[38;5;28;01mif\u001b[39;00m \u001b[38;5;28mself\u001b[39m\u001b[38;5;241m.\u001b[39mcolumns\u001b[38;5;241m.\u001b[39mnlevels \u001b[38;5;241m>\u001b[39m \u001b[38;5;241m1\u001b[39m:\n\u001b[0;32m   3760\u001b[0m     \u001b[38;5;28;01mreturn\u001b[39;00m \u001b[38;5;28mself\u001b[39m\u001b[38;5;241m.\u001b[39m_getitem_multilevel(key)\n\u001b[1;32m-> 3761\u001b[0m indexer \u001b[38;5;241m=\u001b[39m \u001b[38;5;28mself\u001b[39m\u001b[38;5;241m.\u001b[39mcolumns\u001b[38;5;241m.\u001b[39mget_loc(key)\n\u001b[0;32m   3762\u001b[0m \u001b[38;5;28;01mif\u001b[39;00m is_integer(indexer):\n\u001b[0;32m   3763\u001b[0m     indexer \u001b[38;5;241m=\u001b[39m [indexer]\n",
      "File \u001b[1;32mc:\\ProgramData\\anaconda3\\Lib\\site-packages\\pandas\\core\\indexes\\base.py:3655\u001b[0m, in \u001b[0;36mIndex.get_loc\u001b[1;34m(self, key)\u001b[0m\n\u001b[0;32m   3653\u001b[0m     \u001b[38;5;28;01mreturn\u001b[39;00m \u001b[38;5;28mself\u001b[39m\u001b[38;5;241m.\u001b[39m_engine\u001b[38;5;241m.\u001b[39mget_loc(casted_key)\n\u001b[0;32m   3654\u001b[0m \u001b[38;5;28;01mexcept\u001b[39;00m \u001b[38;5;167;01mKeyError\u001b[39;00m \u001b[38;5;28;01mas\u001b[39;00m err:\n\u001b[1;32m-> 3655\u001b[0m     \u001b[38;5;28;01mraise\u001b[39;00m \u001b[38;5;167;01mKeyError\u001b[39;00m(key) \u001b[38;5;28;01mfrom\u001b[39;00m \u001b[38;5;21;01merr\u001b[39;00m\n\u001b[0;32m   3656\u001b[0m \u001b[38;5;28;01mexcept\u001b[39;00m \u001b[38;5;167;01mTypeError\u001b[39;00m:\n\u001b[0;32m   3657\u001b[0m     \u001b[38;5;66;03m# If we have a listlike key, _check_indexing_error will raise\u001b[39;00m\n\u001b[0;32m   3658\u001b[0m     \u001b[38;5;66;03m#  InvalidIndexError. Otherwise we fall through and re-raise\u001b[39;00m\n\u001b[0;32m   3659\u001b[0m     \u001b[38;5;66;03m#  the TypeError.\u001b[39;00m\n\u001b[0;32m   3660\u001b[0m     \u001b[38;5;28mself\u001b[39m\u001b[38;5;241m.\u001b[39m_check_indexing_error(key)\n",
      "\u001b[1;31mKeyError\u001b[0m: 'RCS_SIZE'"
     ]
    }
   ],
   "source": [
    "# Correctly loading a pickle file without additional arguments\n",
    "data = pd.read_pickle('preprocessed_data.pkl')\n",
    "\n",
    "# Re-check for missing values\n",
    "initial_missing_count = data['RCS_SIZE'].isnull().sum()\n",
    "print(f\"Initial missing RCS_SIZE values: {initial_missing_count}\")\n"
   ]
  },
  {
   "cell_type": "code",
   "execution_count": 60,
   "metadata": {},
   "outputs": [
    {
     "name": "stdout",
     "output_type": "stream",
     "text": [
      "Index(['OBJECT_ID', 'OBJECT_NAME', 'NORAD_CAT_ID', 'PERIOD', 'INCLINATION',\n",
      "       'APOGEE', 'PERIGEE', 'RCSVALUE', 'LAUNCH', 'COMMENT',\n",
      "       ...\n",
      "       'COUNTRY_URY', 'COUNTRY_US', 'COUNTRY_USBZ', 'COUNTRY_VENZ',\n",
      "       'COUNTRY_VTNM', 'RCS_SIZE_LARGE', 'RCS_SIZE_MEDIUM', 'RCS_SIZE_SMALL',\n",
      "       'ORBITAL_RANGE', 'TIME_SINCE_LAUNCH'],\n",
      "      dtype='object', length=118)\n"
     ]
    }
   ],
   "source": [
    "# Print all column names in the DataFrame\n",
    "print(data.columns)\n"
   ]
  },
  {
   "cell_type": "code",
   "execution_count": 63,
   "metadata": {},
   "outputs": [
    {
     "name": "stdout",
     "output_type": "stream",
     "text": [
      "Initial missing RCS_SIZE values: 1285\n"
     ]
    }
   ],
   "source": [
    "# Loading the pickle file\n",
    "data = pd.read_csv('Dataset/CSV FILE/Total_objects_dataset_Uncleaned_.csv')\n",
    "\n",
    "# Check if 'RCS_SIZE' is in the DataFrame\n",
    "if 'RCS_SIZE' in data.columns:\n",
    "    initial_missing_count = data['RCS_SIZE'].isnull().sum()\n",
    "    print(f\"Initial missing RCS_SIZE values: {initial_missing_count}\")\n",
    "else:\n",
    "    print(\"Column 'RCS_SIZE' does not exist in the DataFrame. Available columns are:\", data.columns)\n"
   ]
  }
 ],
 "metadata": {
  "kernelspec": {
   "display_name": "base",
   "language": "python",
   "name": "python3"
  },
  "language_info": {
   "codemirror_mode": {
    "name": "ipython",
    "version": 3
   },
   "file_extension": ".py",
   "mimetype": "text/x-python",
   "name": "python",
   "nbconvert_exporter": "python",
   "pygments_lexer": "ipython3",
   "version": "3.11.5"
  }
 },
 "nbformat": 4,
 "nbformat_minor": 2
}
