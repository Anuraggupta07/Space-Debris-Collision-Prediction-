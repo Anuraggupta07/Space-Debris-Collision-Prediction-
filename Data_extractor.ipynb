{
 "cells": [
  {
   "cell_type": "code",
   "execution_count": 1,
   "metadata": {},
   "outputs": [],
   "source": [
    "import sqlite3"
   ]
  },
  {
   "cell_type": "code",
   "execution_count": 2,
   "metadata": {},
   "outputs": [],
   "source": [
    "def extract_orbital_parameters(file_path):\n",
    "    with open(file_path, 'r') as file:\n",
    "        lines = file.readlines()\n",
    "\n",
    "    parameters = {}\n",
    "    spacecraft_count = 0\n",
    "    current_spacecraft = None\n",
    "    \n",
    "    for line in lines:\n",
    "        line = line.strip()\n",
    "        if line.startswith(\"Spacecraft\"):\n",
    "            spacecraft_count += 1\n",
    "            current_spacecraft = f\"Satellite_{spacecraft_count}\"\n",
    "            parameters[current_spacecraft] = {}\n",
    "        elif line.startswith(\"Semi-Major Axis\"):\n",
    "            parameters[current_spacecraft]['SMA'] = float(line.split('=')[1].strip().split(' ')[0])\n",
    "        elif line.startswith(\"ECC\"):\n",
    "            parameters[current_spacecraft]['ECC'] = float(line.split('=')[1].strip())\n",
    "        elif line.startswith(\"INC\"):\n",
    "            parameters[current_spacecraft]['INC'] = float(line.split('=')[1].strip().split(' ')[0])\n",
    "        elif line.startswith(\"RAAN\"):\n",
    "            parameters[current_spacecraft]['RAAN'] = float(line.split('=')[1].strip().split(' ')[0])\n",
    "        elif line.startswith(\"AOP\"):\n",
    "            parameters[current_spacecraft]['AOP'] = float(line.split('=')[1].strip().split(' ')[0])\n",
    "        elif line.startswith(\"MA\"):\n",
    "            parameters[current_spacecraft]['MA'] = float(line.split('=')[1].strip().split(' ')[0])\n",
    "\n",
    "    return parameters"
   ]
  },
  {
   "cell_type": "code",
   "execution_count": 3,
   "metadata": {},
   "outputs": [],
   "source": [
    "def create_table(cursor):\n",
    "    cursor.execute('''CREATE TABLE IF NOT EXISTS OrbitalParameters (\n",
    "                        Satellite TEXT,\n",
    "                        SMA REAL,\n",
    "                        ECC REAL,\n",
    "                        INC REAL,\n",
    "                        RAAN REAL,\n",
    "                        AOP REAL,\n",
    "                        MA REAL\n",
    "                      )''')\n"
   ]
  },
  {
   "cell_type": "code",
   "execution_count": 4,
   "metadata": {},
   "outputs": [],
   "source": [
    "def insert_data(cursor, parameters):\n",
    "    for satellite, values in parameters.items():\n",
    "        cursor.execute('''INSERT INTO OrbitalParameters (Satellite, SMA, ECC, INC, RAAN, AOP, MA)\n",
    "                          VALUES (?, ?, ?, ?, ?, ?, ?)''',\n",
    "                       (satellite, values['SMA'], values['ECC'], values['INC'], values['RAAN'], values['AOP'], values['MA']))\n"
   ]
  },
  {
   "cell_type": "code",
   "execution_count": 5,
   "metadata": {},
   "outputs": [],
   "source": [
    "#Connect to the database\n",
    "conn = sqlite3.connect('orbital_parameters.db')\n",
    "cursor = conn.cursor()"
   ]
  },
  {
   "cell_type": "code",
   "execution_count": 6,
   "metadata": {},
   "outputs": [],
   "source": [
    "# Create the table if it does not exist\n",
    "create_table(cursor)"
   ]
  },
  {
   "cell_type": "code",
   "execution_count": 12,
   "metadata": {},
   "outputs": [],
   "source": [
    "# Extract parameters from the file\n",
    "file_path = (r'C:\\Users\\anura\\OneDrive\\Desktop\\-\\Space Debris Prediction Model\\Dataset\\Test 1_orbit.txt')\n",
    "orbital_parameters = extract_orbital_parameters(file_path)\n"
   ]
  },
  {
   "cell_type": "code",
   "execution_count": 13,
   "metadata": {},
   "outputs": [
    {
     "ename": "KeyError",
     "evalue": "'SMA'",
     "output_type": "error",
     "traceback": [
      "\u001b[1;31m---------------------------------------------------------------------------\u001b[0m",
      "\u001b[1;31mKeyError\u001b[0m                                  Traceback (most recent call last)",
      "Cell \u001b[1;32mIn[13], line 2\u001b[0m\n\u001b[0;32m      1\u001b[0m \u001b[38;5;66;03m# Insert data into the table\u001b[39;00m\n\u001b[1;32m----> 2\u001b[0m insert_data(cursor, orbital_parameters)\n",
      "Cell \u001b[1;32mIn[4], line 5\u001b[0m, in \u001b[0;36minsert_data\u001b[1;34m(cursor, parameters)\u001b[0m\n\u001b[0;32m      1\u001b[0m \u001b[38;5;28;01mdef\u001b[39;00m \u001b[38;5;21minsert_data\u001b[39m(cursor, parameters):\n\u001b[0;32m      2\u001b[0m     \u001b[38;5;28;01mfor\u001b[39;00m satellite, values \u001b[38;5;129;01min\u001b[39;00m parameters\u001b[38;5;241m.\u001b[39mitems():\n\u001b[0;32m      3\u001b[0m         cursor\u001b[38;5;241m.\u001b[39mexecute(\u001b[38;5;124m'''\u001b[39m\u001b[38;5;124mINSERT INTO OrbitalParameters (Satellite, SMA, ECC, INC, RAAN, AOP, MA)\u001b[39m\n\u001b[0;32m      4\u001b[0m \u001b[38;5;124m                          VALUES (?, ?, ?, ?, ?, ?, ?)\u001b[39m\u001b[38;5;124m'''\u001b[39m,\n\u001b[1;32m----> 5\u001b[0m                        (satellite, values[\u001b[38;5;124m'\u001b[39m\u001b[38;5;124mSMA\u001b[39m\u001b[38;5;124m'\u001b[39m], values[\u001b[38;5;124m'\u001b[39m\u001b[38;5;124mECC\u001b[39m\u001b[38;5;124m'\u001b[39m], values[\u001b[38;5;124m'\u001b[39m\u001b[38;5;124mINC\u001b[39m\u001b[38;5;124m'\u001b[39m], values[\u001b[38;5;124m'\u001b[39m\u001b[38;5;124mRAAN\u001b[39m\u001b[38;5;124m'\u001b[39m], values[\u001b[38;5;124m'\u001b[39m\u001b[38;5;124mAOP\u001b[39m\u001b[38;5;124m'\u001b[39m], values[\u001b[38;5;124m'\u001b[39m\u001b[38;5;124mMA\u001b[39m\u001b[38;5;124m'\u001b[39m]))\n",
      "\u001b[1;31mKeyError\u001b[0m: 'SMA'"
     ]
    }
   ],
   "source": [
    "# Insert data into the table\n",
    "insert_data(cursor, orbital_parameters)"
   ]
  },
  {
   "cell_type": "code",
   "execution_count": null,
   "metadata": {},
   "outputs": [],
   "source": [
    "# Commit the changes and close the connection\n",
    "conn.commit()\n",
    "conn.close()"
   ]
  }
 ],
 "metadata": {
  "kernelspec": {
   "display_name": "base",
   "language": "python",
   "name": "python3"
  },
  "language_info": {
   "codemirror_mode": {
    "name": "ipython",
    "version": 3
   },
   "file_extension": ".py",
   "mimetype": "text/x-python",
   "name": "python",
   "nbconvert_exporter": "python",
   "pygments_lexer": "ipython3",
   "version": "3.11.5"
  }
 },
 "nbformat": 4,
 "nbformat_minor": 2
}
